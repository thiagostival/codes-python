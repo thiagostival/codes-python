{
 "cells": [
  {
   "cell_type": "code",
   "execution_count": 7,
   "metadata": {},
   "outputs": [],
   "source": [
    "import os\n",
    "import json\n",
    "\n",
    "filename = 'wordlist.txt'\n",
    "\n",
    "# dict1 = []\n",
    "dict1 = {}\n",
    "limit = 2285\n",
    "count = 1\n",
    "with open(filename) as fh:\n",
    "    for idx, line in enumerate(fh):\n",
    "        nl = line.strip()\n",
    "        dict1[nl] = nl\n",
    "\n",
    "        if idx == (limit * count) or idx == enumerate(fh):\n",
    "            newData = { f\"english-us\": dict1 }\n",
    "            out_file = open(f\"./split/convert{count}.json\", \"w\")\n",
    "            json.dump(newData, out_file, indent=4, sort_keys=False)\n",
    "            out_file.close()\n",
    "            dict1 = {}\n",
    "            count += 1\n",
    "\n",
    "count = 1\n",
    "dict1 = {}\n"
   ]
  }
 ],
 "metadata": {
  "kernelspec": {
   "display_name": "Python 3.9.13 64-bit (microsoft store)",
   "language": "python",
   "name": "python3"
  },
  "language_info": {
   "codemirror_mode": {
    "name": "ipython",
    "version": 3
   },
   "file_extension": ".py",
   "mimetype": "text/x-python",
   "name": "python",
   "nbconvert_exporter": "python",
   "pygments_lexer": "ipython3",
   "version": "3.9.13"
  },
  "orig_nbformat": 4,
  "vscode": {
   "interpreter": {
    "hash": "072445144b032371d2ebecd007ae921630737e039d4b467af66c8ba10076a872"
   }
  }
 },
 "nbformat": 4,
 "nbformat_minor": 2
}
