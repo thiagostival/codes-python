{
 "cells": [
  {
   "cell_type": "code",
   "execution_count": null,
   "metadata": {},
   "outputs": [],
   "source": [
    "import firebase_admin\n",
    "from firebase_admin import credentials\n",
    "from firebase_admin import firestore\n",
    "import json\n",
    "import os\n",
    "\n",
    "try:\n",
    "    cred = credentials.Certificate(\"serviceAccount.json\")\n",
    "    app = firebase_admin.initialize_app(cred)\n",
    "    db = firestore.client()\n",
    "\n",
    "    for filename in os.listdir('data'):\n",
    "        if filename.endswith('.json'):\n",
    "            with open('data/' + filename, 'r') as j:\n",
    "                contents = json.loads(j.read())\n",
    "\n",
    "            for key, lista in contents.items():\n",
    "                k = [*lista][0]\n",
    "                v = [*lista.values()]\n",
    "                # doc_ref = db.document('words/' + key).set(lista, merge=True)\n",
    "\n",
    "                for idx, word in enumerate(lista):\n",
    "                    doc_ref = db.document(\n",
    "                        'list/' + f'{idx}').set({'word': word}, merge=True)\n",
    "\n",
    "finally:\n",
    "    firebase_admin.delete_app(app)\n"
   ]
  }
 ],
 "metadata": {
  "kernelspec": {
   "display_name": "Python 3.9.13 64-bit (microsoft store)",
   "language": "python",
   "name": "python3"
  },
  "language_info": {
   "codemirror_mode": {
    "name": "ipython",
    "version": 3
   },
   "file_extension": ".py",
   "mimetype": "text/x-python",
   "name": "python",
   "nbconvert_exporter": "python",
   "pygments_lexer": "ipython3",
   "version": "3.9.13"
  },
  "orig_nbformat": 4,
  "vscode": {
   "interpreter": {
    "hash": "072445144b032371d2ebecd007ae921630737e039d4b467af66c8ba10076a872"
   }
  }
 },
 "nbformat": 4,
 "nbformat_minor": 2
}
